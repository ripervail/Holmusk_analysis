{
 "cells": [
  {
   "cell_type": "markdown",
   "metadata": {},
   "source": [
    "# Analysis for Holmusk data set"
   ]
  },
  {
   "cell_type": "markdown",
   "metadata": {},
   "source": [
    "## Data processing"
   ]
  },
  {
   "cell_type": "code",
   "execution_count": 41,
   "metadata": {},
   "outputs": [],
   "source": [
    "# Import some libraries\n",
    "import pandas as pd\n",
    "import numpy as np\n",
    "import os"
   ]
  },
  {
   "cell_type": "code",
   "execution_count": 42,
   "metadata": {},
   "outputs": [
    {
     "name": "stdout",
     "output_type": "stream",
     "text": [
      "C:\\Users\\USER\\Downloads\\Holmusk_analysis\n"
     ]
    }
   ],
   "source": [
    "cwd = os.getcwd()\n",
    "print(cwd)"
   ]
  },
  {
   "cell_type": "code",
   "execution_count": 63,
   "metadata": {},
   "outputs": [],
   "source": [
    "# Import our datasets\n",
    "bill_id = pd.read_csv(r'C:/Users/USER/Downloads/Holmusk_analysis/bill_id.csv')\n",
    "demographics = pd.read_csv(r'C:/Users/USER/Downloads/Holmusk_analysis/demographics.csv')\n",
    "clinical_data = pd.read_csv(r'C:/Users/USER/Downloads/Holmusk_analysis/clinical_data.csv')\n",
    "\n",
    "# Rename bill_id \"patient_id\" to avoid conflict\n",
    "bill_id.rename(columns={\"patient_id\": \"pt_id\"}, inplace=True)\n",
    "\n",
    "# Drop already existing columns from clinical_data\n",
    "clinical_data = clinical_data.drop(columns=[\"date_of_admission\"])"
   ]
  },
  {
   "cell_type": "code",
   "execution_count": 64,
   "metadata": {},
   "outputs": [
    {
     "name": "stdout",
     "output_type": "stream",
     "text": [
      "bill_id columns: Index(['bill_id', 'pt_id', 'date_of_admission', 'amount'], dtype='object')\n",
      "demographics columns: Index(['patient_id', 'gender', 'race', 'resident_status', 'date_of_birth'], dtype='object')\n",
      "clinical_data columns: Index(['id', 'date_of_discharge', 'medical_history_1', 'medical_history_2',\n",
      "       'medical_history_3', 'medical_history_4', 'medical_history_5',\n",
      "       'medical_history_6', 'medical_history_7', 'preop_medication_1',\n",
      "       'preop_medication_2', 'preop_medication_3', 'preop_medication_4',\n",
      "       'preop_medication_5', 'preop_medication_6', 'symptom_1', 'symptom_2',\n",
      "       'symptom_3', 'symptom_4', 'symptom_5', 'lab_result_1', 'lab_result_2',\n",
      "       'lab_result_3', 'weight', 'height'],\n",
      "      dtype='object')\n",
      " \n",
      "bill_id length: 13600\n",
      "demographics length: 3000\n",
      "clinical_data length: 3400\n"
     ]
    }
   ],
   "source": [
    "print(\"bill_id columns: \" + str(bill_id.columns))\n",
    "print(\"demographics columns: \" + str(demographics.columns))\n",
    "print(\"clinical_data columns: \" + str(clinical_data.columns))\n",
    "print(\" \")\n",
    "print(\"bill_id length: \" + str(len(bill_id)))\n",
    "print(\"demographics length: \" + str(len(demographics)))\n",
    "print(\"clinical_data length: \" + str(len(clinical_data)))"
   ]
  },
  {
   "cell_type": "code",
   "execution_count": 66,
   "metadata": {},
   "outputs": [
    {
     "name": "stdout",
     "output_type": "stream",
     "text": [
      "3000\n"
     ]
    }
   ],
   "source": [
    "# Find common patient_ids\n",
    "patient_id_dup = [list(bill_id[\"pt_id\"]), list(demographics[\"patient_id\"]), list(clinical_data[\"id\"])]\n",
    "unique_id = set(patient_id_dup[0]).intersection(*patient_id_dup)\n",
    "print(len(unique_id))"
   ]
  },
  {
   "cell_type": "markdown",
   "metadata": {},
   "source": [
    "Looks like the ids in demographics contain all the unique ids. Combine all the datasets into 1 big dataset"
   ]
  },
  {
   "cell_type": "code",
   "execution_count": 73,
   "metadata": {},
   "outputs": [],
   "source": [
    "# bill_id is already in sorted order. Lets sort demographics and clinical_data\n",
    "raw_df = demographics.sort_values(\"patient_id\").copy(deep=True)\n",
    "clinical_data = clinical_data.sort_values(\"id\")\n",
    "\n",
    "raw_df = raw_df.join(bill_id.loc[bill_id[\"pt_id\"].isin(raw_df[\"patient_id\"])])\n",
    "raw_df = raw_df.join(clinical_data.loc[clinical_data[\"id\"].isin(raw_df[\"patient_id\"])])"
   ]
  },
  {
   "cell_type": "code",
   "execution_count": 74,
   "metadata": {},
   "outputs": [
    {
     "name": "stdout",
     "output_type": "stream",
     "text": [
      "Index(['patient_id', 'gender', 'race', 'resident_status', 'date_of_birth',\n",
      "       'bill_id', 'pt_id', 'date_of_admission', 'amount', 'id',\n",
      "       'date_of_discharge', 'medical_history_1', 'medical_history_2',\n",
      "       'medical_history_3', 'medical_history_4', 'medical_history_5',\n",
      "       'medical_history_6', 'medical_history_7', 'preop_medication_1',\n",
      "       'preop_medication_2', 'preop_medication_3', 'preop_medication_4',\n",
      "       'preop_medication_5', 'preop_medication_6', 'symptom_1', 'symptom_2',\n",
      "       'symptom_3', 'symptom_4', 'symptom_5', 'lab_result_1', 'lab_result_2',\n",
      "       'lab_result_3', 'weight', 'height'],\n",
      "      dtype='object')\n"
     ]
    }
   ],
   "source": [
    "print(raw_df.columns)"
   ]
  },
  {
   "cell_type": "code",
   "execution_count": 75,
   "metadata": {},
   "outputs": [
    {
     "data": {
      "text/plain": [
       "2547    Female\n",
       "2645    Female\n",
       "1800      Male\n",
       "1552    Female\n",
       "2295      Male\n",
       "         ...  \n",
       "2960    Female\n",
       "638       Male\n",
       "1741      Male\n",
       "1806      Male\n",
       "2743    Female\n",
       "Name: gender, Length: 3000, dtype: object"
      ]
     },
     "execution_count": 75,
     "metadata": {},
     "output_type": "execute_result"
    }
   ],
   "source": [
    "raw_df[\"gender\"]"
   ]
  },
  {
   "cell_type": "markdown",
   "metadata": {},
   "source": [
    "Now let's clean up the data and make it code-readable"
   ]
  },
  {
   "cell_type": "code",
   "execution_count": 107,
   "metadata": {},
   "outputs": [
    {
     "name": "stdout",
     "output_type": "stream",
     "text": [
      "1503\n"
     ]
    }
   ],
   "source": [
    "# Rectify gender - no nulls\n",
    "# Male = 1, female = 0\n",
    "gender_df = raw_df.copy(deep=True)\n",
    "# print(gender_df[\"gender\"].isnull().sum())\n",
    "\n",
    "gender_df[\"gender\"] = np.where(gender_df[\"gender\"].str.lower().str.startswith(\"m\"), 1, 0)\n",
    "\n",
    "print(len(gender_df.loc[gender_df[\"gender\"] == 1]))\n",
    "\n",
    "raw_df[\"gender\"] = gender_df[\"gender\"]"
   ]
  },
  {
   "cell_type": "code",
   "execution_count": 110,
   "metadata": {},
   "outputs": [
    {
     "name": "stdout",
     "output_type": "stream",
     "text": [
      "3000\n"
     ]
    }
   ],
   "source": [
    "# Add in age column\n",
    "age_df = raw_df.copy(deep=True)\n",
    "# print(age_df[\"date_of_birth\"].isnull().sum()) # No nulls for both\n",
    "# print(age_df[\"date_of_admission\"].isnull().sum())\n",
    "\n",
    "doa = age_df[\"date_of_admission\"].str.split('/', expand=True).astype(int)\n",
    "dob = age_df[\"date_of_birth\"].str.split('/', expand=True).astype(int)\n",
    "\n",
    "age_at_admission = [a - b for a, b in zip(doa[2], dob[2])]\n",
    "\n",
    "print(len(age_at_admission))\n",
    "\n",
    "raw_df[\"age_at_admission\"] = age_at_admission"
   ]
  },
  {
   "cell_type": "code",
   "execution_count": 112,
   "metadata": {},
   "outputs": [
    {
     "data": {
      "text/plain": [
       "2547    31\n",
       "2645    72\n",
       "1800    39\n",
       "1552    37\n",
       "2295    70\n",
       "        ..\n",
       "2960    37\n",
       "638     52\n",
       "1741    76\n",
       "1806    61\n",
       "2743    57\n",
       "Name: age_at_admission, Length: 3000, dtype: int64"
      ]
     },
     "execution_count": 112,
     "metadata": {},
     "output_type": "execute_result"
    }
   ],
   "source": [
    "# Check all newly-formatted columns\n",
    "raw_df[\"age_at_admission\"]"
   ]
  },
  {
   "cell_type": "markdown",
   "metadata": {},
   "source": [
    "Lets export this full dataset, and then shift the columns"
   ]
  },
  {
   "cell_type": "code",
   "execution_count": 34,
   "metadata": {},
   "outputs": [],
   "source": [
    "# raw_df.to_csv(\"raw_df.csv\")"
   ]
  }
 ],
 "metadata": {
  "kernelspec": {
   "display_name": "Python 3",
   "language": "python",
   "name": "python3"
  },
  "language_info": {
   "codemirror_mode": {
    "name": "ipython",
    "version": 3
   },
   "file_extension": ".py",
   "mimetype": "text/x-python",
   "name": "python",
   "nbconvert_exporter": "python",
   "pygments_lexer": "ipython3",
   "version": "3.8.0"
  }
 },
 "nbformat": 4,
 "nbformat_minor": 4
}
