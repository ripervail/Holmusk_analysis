{
 "cells": [
  {
   "cell_type": "markdown",
   "metadata": {},
   "source": [
    "# Analysis for Holmusk data set"
   ]
  },
  {
   "cell_type": "markdown",
   "metadata": {},
   "source": [
    "## Data processing"
   ]
  },
  {
   "cell_type": "code",
   "execution_count": 37,
   "metadata": {},
   "outputs": [],
   "source": [
    "# Import some libraries\n",
    "import pandas as pd\n",
    "import numpy as np\n",
    "import os"
   ]
  },
  {
   "cell_type": "code",
   "execution_count": 38,
   "metadata": {},
   "outputs": [
    {
     "name": "stdout",
     "output_type": "stream",
     "text": [
      "C:\\Users\\USER\\Downloads\\Holmusk_analysis\n"
     ]
    }
   ],
   "source": [
    "cwd = os.getcwd()\n",
    "print(cwd)"
   ]
  },
  {
   "cell_type": "code",
   "execution_count": 39,
   "metadata": {},
   "outputs": [],
   "source": [
    "# Import our datasets\n",
    "bill_id = pd.read_csv(r'C:/Users/USER/Downloads/Holmusk_analysis/bill_id.csv')\n",
    "demographics = pd.read_csv(r'C:/Users/USER/Downloads/Holmusk_analysis/demographics.csv')\n",
    "clinical_data = pd.read_csv(r'C:/Users/USER/Downloads/Holmusk_analysis/clinical_data.csv')\n",
    "\n",
    "# Rename bill_id \"patient_id\" to avoid conflict\n",
    "bill_id.rename(columns={\"patient_id\": \"pt_id\"}, inplace=True)"
   ]
  },
  {
   "cell_type": "code",
   "execution_count": 40,
   "metadata": {},
   "outputs": [
    {
     "name": "stdout",
     "output_type": "stream",
     "text": [
      "bill_id columns: Index(['pt_id', 'bill_id', 'date_of_admission', 'amount'], dtype='object')\n",
      "demographics columns: Index(['patient_id', 'gender', 'race', 'resident_status', 'date_of_birth'], dtype='object')\n",
      "clinical_data columns: Index(['id', 'date_of_admission', 'date_of_discharge', 'medical_history_1',\n",
      "       'medical_history_2', 'medical_history_3', 'medical_history_4',\n",
      "       'medical_history_5', 'medical_history_6', 'medical_history_7',\n",
      "       'preop_medication_1', 'preop_medication_2', 'preop_medication_3',\n",
      "       'preop_medication_4', 'preop_medication_5', 'preop_medication_6',\n",
      "       'symptom_1', 'symptom_2', 'symptom_3', 'symptom_4', 'symptom_5',\n",
      "       'lab_result_1', 'lab_result_2', 'lab_result_3', 'weight', 'height'],\n",
      "      dtype='object')\n",
      " \n",
      "bill_id length: 13600\n",
      "demographics length: 3000\n",
      "clinical_data length: 3400\n"
     ]
    }
   ],
   "source": [
    "print(\"bill_id columns: \" + str(bill_id.columns))\n",
    "print(\"demographics columns: \" + str(demographics.columns))\n",
    "print(\"clinical_data columns: \" + str(clinical_data.columns))\n",
    "print(\" \")\n",
    "print(\"bill_id length: \" + str(len(bill_id)))\n",
    "print(\"demographics length: \" + str(len(demographics)))\n",
    "print(\"clinical_data length: \" + str(len(clinical_data)))"
   ]
  },
  {
   "cell_type": "markdown",
   "metadata": {},
   "source": [
    "bill_id actually has repeated patient ids, but with separate bill ids! Maybe we can just combine all the bill amounts together\n",
    "\n",
    "Seems like bill_id has 4 rows for each patient visit. Patients that visit more than once however, will have 4 * n rows"
   ]
  },
  {
   "cell_type": "code",
   "execution_count": 41,
   "metadata": {},
   "outputs": [
    {
     "name": "stdout",
     "output_type": "stream",
     "text": [
      "bill_id: 3000 / 13600\n",
      "demographics: 3000 / 3000\n",
      "clinical_data: 3000 / 3400\n"
     ]
    }
   ],
   "source": [
    "# Find any repeated values\n",
    "print(\"bill_id: \" + str(len(bill_id[\"pt_id\"].unique())) + \" / \" + str(len(bill_id)))\n",
    "print(\"demographics: \" + str(len(demographics[\"patient_id\"].unique())) + \\\n",
    "      \" / \" + str(len(demographics)))\n",
    "print(\"clinical_data: \" + str(len(clinical_data[\"id\"].unique())) + \\\n",
    "      \" / \" + str(len(clinical_data)))\n"
   ]
  },
  {
   "cell_type": "markdown",
   "metadata": {},
   "source": [
    "Now let's combine the bill_ids into the correct format.\n",
    "\n",
    "We add date_of_admission to their bill_ids to separate multiple visits by the same patient. Of course, we can look at the impact of multiple visits on the bill amount"
   ]
  },
  {
   "cell_type": "code",
   "execution_count": 42,
   "metadata": {},
   "outputs": [
    {
     "data": {
      "text/plain": [
       "3400"
      ]
     },
     "execution_count": 42,
     "metadata": {},
     "output_type": "execute_result"
    }
   ],
   "source": [
    "bill_id_2 = bill_id.copy(deep=True)\n",
    "\n",
    "# Save new id as id_w_date so we can reuse id to add in demographic info\n",
    "bill_id_2[\"id_w_date\"] = bill_id[\"pt_id\"] + bill_id[\"date_of_admission\"]\n",
    "\n",
    "# bill_id_2[\"pt_id\"][0]\n",
    "len(bill_id_2[\"id_w_date\"].unique())"
   ]
  },
  {
   "cell_type": "code",
   "execution_count": 43,
   "metadata": {},
   "outputs": [
    {
     "name": "stdout",
     "output_type": "stream",
     "text": [
      "3400\n",
      "3400\n"
     ]
    }
   ],
   "source": [
    "bill_id_2 = bill_id_2.sort_values(\"id_w_date\")\n",
    "\n",
    "# Maybe we can check the vist number too!\n",
    "admission_count = []\n",
    "\n",
    "# Combine the bill amounts\n",
    "bill = []\n",
    "current = bill_id_2[\"id_w_date\"][0]\n",
    "total_bill = 0\n",
    "count = 1\n",
    "for index, row in bill_id_2.iterrows():\n",
    "    if row[\"id_w_date\"] == current:\n",
    "        total_bill += row[\"amount\"]\n",
    "        count += 1\n",
    "    else:\n",
    "        bill.append(total_bill)\n",
    "        admission_count.append((count // 4) + 1)\n",
    "        count = 0\n",
    "        current = row[\"id_w_date\"]\n",
    "        total_bill = row[\"amount\"]\n",
    "bill.append(total_bill)\n",
    "admission_count.append(count)\n",
    "\n",
    "print(len(bill))\n",
    "print(len(admission_count))\n",
    "\n",
    "# Bill has been combined!"
   ]
  },
  {
   "cell_type": "code",
   "execution_count": 44,
   "metadata": {},
   "outputs": [
    {
     "data": {
      "text/plain": [
       "3"
      ]
     },
     "execution_count": 44,
     "metadata": {},
     "output_type": "execute_result"
    }
   ],
   "source": [
    "12 // 4"
   ]
  },
  {
   "cell_type": "markdown",
   "metadata": {},
   "source": [
    "Let's do the same for clinical_data, and sort it, and add in the bill.\n",
    "\n",
    "For clinical_data, we actually see that some patients have multiple logs, because they enter the hospital multiple times! We must treat those as separate values."
   ]
  },
  {
   "cell_type": "code",
   "execution_count": 45,
   "metadata": {},
   "outputs": [],
   "source": [
    "# clinical_data processing\n",
    "cd_2 = clinical_data.copy(deep=True)\n",
    "cd_2[\"id_w_date\"] = clinical_data[\"id\"] + clinical_data[\"date_of_admission\"]\n",
    "\n",
    "# Sort by new patient id\n",
    "cd_2 = cd_2.sort_values(\"id_w_date\")\n",
    "\n",
    "# Add in total_bill\n",
    "cd_2[\"total_bill\"] = bill\n",
    "cd_2[\"admission_count\"] = admission_count"
   ]
  },
  {
   "cell_type": "markdown",
   "metadata": {},
   "source": [
    "Now let's add in the relevant demographic data into cd_2"
   ]
  },
  {
   "cell_type": "code",
   "execution_count": 46,
   "metadata": {},
   "outputs": [
    {
     "data": {
      "text/plain": [
       "Index(['patient_id', 'gender', 'race', 'resident_status', 'date_of_birth'], dtype='object')"
      ]
     },
     "execution_count": 46,
     "metadata": {},
     "output_type": "execute_result"
    }
   ],
   "source": [
    "demographics.columns"
   ]
  },
  {
   "cell_type": "code",
   "execution_count": 47,
   "metadata": {},
   "outputs": [
    {
     "name": "stdout",
     "output_type": "stream",
     "text": [
      "3400\n"
     ]
    }
   ],
   "source": [
    "# Add empty columns to cd_2\n",
    "gender = []\n",
    "race = []\n",
    "citizenship = []\n",
    "dob = []\n",
    "\n",
    "# Check patient id in demographic, and add to cd_2\n",
    "count_cd2 = 0\n",
    "count_demo = 0\n",
    "loop = 0\n",
    "while count_cd2 < 3400 and count_demo < 3000:\n",
    "#     print(loop)\n",
    "#     loop += 1\n",
    "    if cd_2[\"id\"][count_cd2] == demographics[\"patient_id\"][count_demo]:\n",
    "        gender.append(demographics[\"gender\"][count_demo])\n",
    "        race.append(demographics[\"race\"][count_demo])\n",
    "        citizenship.append(demographics[\"resident_status\"][count_demo])\n",
    "        dob.append(demographics[\"date_of_birth\"][count_demo])\n",
    "        count_cd2 += 1\n",
    "    else: \n",
    "        count_demo += 1\n",
    "        \n",
    "print(len(gender))\n",
    "\n",
    "# Add the columns\n",
    "cd_2[\"gender\"] = gender\n",
    "cd_2[\"race\"] = race\n",
    "cd_2[\"citizenship\"] = citizenship\n",
    "cd_2[\"date_of_birth\"] = dob"
   ]
  },
  {
   "cell_type": "code",
   "execution_count": 48,
   "metadata": {},
   "outputs": [
    {
     "name": "stdout",
     "output_type": "stream",
     "text": [
      "0       Female\n",
      "1       Female\n",
      "2         Male\n",
      "3       Female\n",
      "4         Male\n",
      "         ...  \n",
      "3395    Female\n",
      "3396      Male\n",
      "3397      Male\n",
      "3398      Male\n",
      "3399    Female\n",
      "Name: gender, Length: 3400, dtype: object\n"
     ]
    }
   ],
   "source": [
    "print(cd_2[\"gender\"])"
   ]
  },
  {
   "cell_type": "markdown",
   "metadata": {},
   "source": [
    "Now we compile into our full dataset!"
   ]
  },
  {
   "cell_type": "code",
   "execution_count": 113,
   "metadata": {},
   "outputs": [],
   "source": [
    "raw_df = cd_2.copy(deep=True)"
   ]
  },
  {
   "cell_type": "code",
   "execution_count": 114,
   "metadata": {},
   "outputs": [
    {
     "name": "stdout",
     "output_type": "stream",
     "text": [
      "Index(['id', 'date_of_admission', 'date_of_discharge', 'medical_history_1',\n",
      "       'medical_history_2', 'medical_history_3', 'medical_history_4',\n",
      "       'medical_history_5', 'medical_history_6', 'medical_history_7',\n",
      "       'preop_medication_1', 'preop_medication_2', 'preop_medication_3',\n",
      "       'preop_medication_4', 'preop_medication_5', 'preop_medication_6',\n",
      "       'symptom_1', 'symptom_2', 'symptom_3', 'symptom_4', 'symptom_5',\n",
      "       'lab_result_1', 'lab_result_2', 'lab_result_3', 'weight', 'height',\n",
      "       'id_w_date', 'total_bill', 'admission_count', 'gender', 'race',\n",
      "       'citizenship', 'date_of_birth'],\n",
      "      dtype='object')\n"
     ]
    }
   ],
   "source": [
    "print(raw_df.columns)"
   ]
  },
  {
   "cell_type": "markdown",
   "metadata": {},
   "source": [
    "### Make the column values uniform and consistent"
   ]
  },
  {
   "cell_type": "markdown",
   "metadata": {},
   "source": [
    "Now let's clean up the data and make it code-readable"
   ]
  },
  {
   "cell_type": "code",
   "execution_count": 115,
   "metadata": {},
   "outputs": [
    {
     "name": "stdout",
     "output_type": "stream",
     "text": [
      "medical_history_2 nulls: True\n",
      "medical_history_5 nulls: True\n",
      "233\n",
      "304\n"
     ]
    }
   ],
   "source": [
    "# Check NA\n",
    "for column in raw_df.columns:\n",
    "    if raw_df[column].isnull().values.any():\n",
    "        print(column + \" nulls: \" + str(raw_df[column].isnull().values.any()))\n",
    "        \n",
    "# Medical_history 2 and 5 have nulls. Let's check the number\n",
    "print(raw_df[\"medical_history_2\"].isnull().sum())\n",
    "print(raw_df[\"medical_history_5\"].isnull().sum())"
   ]
  },
  {
   "cell_type": "markdown",
   "metadata": {},
   "source": [
    "There is a significant number of nulls. While I think the dataset is big enough where we can just remove them, I want to see if there is any reason behind these nulls. \n",
    "\n",
    "So let's filter them out, and analyse them separately (later...)"
   ]
  },
  {
   "cell_type": "code",
   "execution_count": 116,
   "metadata": {},
   "outputs": [
    {
     "name": "stdout",
     "output_type": "stream",
     "text": [
      "1702\n"
     ]
    }
   ],
   "source": [
    "# Rectify gender - no nulls\n",
    "# Male = 1, female = 0\n",
    "gender_df = raw_df.copy(deep=True)\n",
    "# print(gender_df[\"gender\"].isnull().sum())\n",
    "\n",
    "gender_df[\"gender\"] = np.where(gender_df[\"gender\"].str.lower().str.startswith(\"m\"), 1, 0)\n",
    "\n",
    "print(len(gender_df.loc[gender_df[\"gender\"] == 0]))"
   ]
  },
  {
   "cell_type": "code",
   "execution_count": 117,
   "metadata": {},
   "outputs": [],
   "source": [
    "# Update gender\n",
    "raw_df[\"gender\"] = gender_df[\"gender\"]"
   ]
  },
  {
   "cell_type": "code",
   "execution_count": 118,
   "metadata": {},
   "outputs": [
    {
     "name": "stdout",
     "output_type": "stream",
     "text": [
      "Negative ages: 0\n",
      "3400\n"
     ]
    }
   ],
   "source": [
    "# Add in age column\n",
    "age_df = raw_df.copy(deep=True)\n",
    "# print(age_df[\"date_of_birth\"].isnull().sum()) # No nulls for both\n",
    "# print(age_df[\"date_of_admission\"].isnull().sum())\n",
    "\n",
    "doa = age_df[\"date_of_admission\"].str.split('/', expand=True).astype(int)\n",
    "dob = age_df[\"date_of_birth\"].str.split('/', expand=True).astype(int)\n",
    "\n",
    "age_at_admission = [a - b for a, b in zip(doa[2], dob[2])]\n",
    "\n",
    "# Check that there are no negative ages\n",
    "count = 0\n",
    "for age in age_at_admission:\n",
    "    if age < 0:\n",
    "        count += 1\n",
    "print(\"Negative ages: \" + str(count))\n",
    "print(len(age_at_admission))"
   ]
  },
  {
   "cell_type": "code",
   "execution_count": 119,
   "metadata": {},
   "outputs": [],
   "source": [
    "raw_df[\"age_at_admission\"] = age_at_admission"
   ]
  },
  {
   "cell_type": "code",
   "execution_count": 120,
   "metadata": {},
   "outputs": [],
   "source": [
    "# Let's change date_of_admission and date_of_birth into month and year values\n",
    "yoa, moa = doa[2], doa[1]\n",
    "yob, mob = dob[2], dob[1]\n",
    "\n",
    "raw_df[\"year_of_admission\"] = yoa\n",
    "raw_df[\"month_of_admission\"] = moa\n",
    "raw_df[\"year_of_birth\"] = yob\n",
    "raw_df[\"month_of_birth\"] = mob"
   ]
  },
  {
   "cell_type": "code",
   "execution_count": 121,
   "metadata": {},
   "outputs": [
    {
     "data": {
      "text/plain": [
       "0       1983\n",
       "1       1943\n",
       "2       1972\n",
       "3       1976\n",
       "4       1942\n",
       "        ... \n",
       "3395    1976\n",
       "3396    1963\n",
       "3397    1938\n",
       "3398    1950\n",
       "3399    1956\n",
       "Name: year_of_birth, Length: 3400, dtype: int32"
      ]
     },
     "execution_count": 121,
     "metadata": {},
     "output_type": "execute_result"
    }
   ],
   "source": [
    "# Check all newly-formatted columns\n",
    "raw_df[\"year_of_birth\"]"
   ]
  },
  {
   "cell_type": "code",
   "execution_count": 122,
   "metadata": {},
   "outputs": [
    {
     "name": "stdout",
     "output_type": "stream",
     "text": [
      "Negative durations: 0\n",
      "3400\n"
     ]
    }
   ],
   "source": [
    "# Change date_of_discharge to duration_of_stay\n",
    "# We make use of datetime object to do this for us\n",
    "# Date format is  DD/MM/YYYY\n",
    "from datetime import date\n",
    "\n",
    "duration_of_stay = []\n",
    "\n",
    "for index, row in raw_df.iterrows():\n",
    "    _doa = row[\"date_of_admission\"].split('/')\n",
    "    _dod = row[\"date_of_discharge\"].split('/')\n",
    "    d_a = date(int(_doa[2]), int(_doa[1]), int(_doa[0]))\n",
    "    d_d = date(int(_dod[2]), int(_dod[1]), int(_dod[0]))\n",
    "    duration_of_stay.append((d_d - d_a).days)\n",
    "    \n",
    "# Check negative duration\n",
    "count = 0\n",
    "for day in duration_of_stay:\n",
    "    if day < 0:\n",
    "        count += 1\n",
    "        \n",
    "print(\"Negative durations: \" + str(count))\n",
    "print(len(duration_of_stay))"
   ]
  },
  {
   "cell_type": "markdown",
   "metadata": {},
   "source": [
    "Next, we settle the values for medical condition"
   ]
  },
  {
   "cell_type": "code",
   "execution_count": 123,
   "metadata": {},
   "outputs": [
    {
     "data": {
      "text/plain": [
       "array(['0', 'No', '1', 'Yes'], dtype=object)"
      ]
     },
     "execution_count": 123,
     "metadata": {},
     "output_type": "execute_result"
    }
   ],
   "source": [
    "raw_df[\"medical_history_3\"].unique()"
   ]
  },
  {
   "cell_type": "code",
   "execution_count": 124,
   "metadata": {},
   "outputs": [],
   "source": [
    "# Change medical_history 3 Yes and No to their respective 1s and 0s\n",
    "for index, row in raw_df.iterrows():\n",
    "    if row[\"medical_history_3\"] == \"No\":\n",
    "        raw_df.at[index, \"medical_history_3\"] = '0'\n",
    "    elif row[\"medical_history_3\"] == \"Yes\":\n",
    "        raw_df.at[index, \"medical_history_3\"] = '1'\n",
    "        \n",
    "# Change type to int\n",
    "raw_df[\"medical_history_3\"] = raw_df[\"medical_history_3\"].astype(int)"
   ]
  },
  {
   "cell_type": "markdown",
   "metadata": {},
   "source": [
    "Then, let's fix the values for race"
   ]
  },
  {
   "cell_type": "code",
   "execution_count": 125,
   "metadata": {},
   "outputs": [
    {
     "data": {
      "text/plain": [
       "array(['Chinese', 'India', 'Malay', 'Others', 'Indian', 'chinese'],\n",
       "      dtype=object)"
      ]
     },
     "execution_count": 125,
     "metadata": {},
     "output_type": "execute_result"
    }
   ],
   "source": [
    "raw_df[\"race\"].unique()"
   ]
  },
  {
   "cell_type": "code",
   "execution_count": 126,
   "metadata": {},
   "outputs": [],
   "source": [
    "# Let chinese = 0, malay = 1, india = 2, others = 3\n",
    "\n",
    "race_index = {'c' : '0', 'm' : '1', 'i' : '2', 'o' : '3'}\n",
    "\n",
    "for index, row in raw_df.iterrows():\n",
    "    raw_df.at[index, \"race\"] = race_index[row[\"race\"][0].lower()]\n",
    "    \n",
    "raw_df[\"race\"] = raw_df[\"race\"].astype(int)"
   ]
  },
  {
   "cell_type": "code",
   "execution_count": 127,
   "metadata": {},
   "outputs": [
    {
     "data": {
      "text/plain": [
       "array([0, 2, 1, 3])"
      ]
     },
     "execution_count": 127,
     "metadata": {},
     "output_type": "execute_result"
    }
   ],
   "source": [
    "raw_df[\"race\"].unique()"
   ]
  },
  {
   "cell_type": "markdown",
   "metadata": {},
   "source": [
    "Add in a BMI column, since weight and height as a variable alone is not indicative of health/disease severity"
   ]
  },
  {
   "cell_type": "code",
   "execution_count": 154,
   "metadata": {},
   "outputs": [
    {
     "data": {
      "text/plain": [
       "0       27.845994\n",
       "1       34.804687\n",
       "2       26.872634\n",
       "3       31.679687\n",
       "4       24.959070\n",
       "          ...    \n",
       "3395    26.406036\n",
       "3396    31.435425\n",
       "3397    28.754325\n",
       "3398    31.364531\n",
       "3399    25.968779\n",
       "Length: 3400, dtype: float64"
      ]
     },
     "execution_count": 154,
     "metadata": {},
     "output_type": "execute_result"
    }
   ],
   "source": [
    "# bmi formula: kg / m ^ 2\n",
    "\n",
    "def bmi(df):\n",
    "    return df[\"weight\"] / (float(df[\"height\"]) / 100) ** 2\n",
    "\n",
    "bmi_list = raw_df.apply(bmi, axis=1)\n",
    "\n",
    "bmi_list"
   ]
  },
  {
   "cell_type": "code",
   "execution_count": 158,
   "metadata": {},
   "outputs": [
    {
     "data": {
      "text/plain": [
       "27.845993756503642"
      ]
     },
     "execution_count": 158,
     "metadata": {},
     "output_type": "execute_result"
    }
   ],
   "source": [
    "test = raw_df[\"weight\"][0] / ((float(raw_df[\"height\"][0])/100) ** 2)\n",
    "test"
   ]
  },
  {
   "cell_type": "code",
   "execution_count": 159,
   "metadata": {},
   "outputs": [],
   "source": [
    "raw_df[\"bmi\"] = bmi_list"
   ]
  },
  {
   "cell_type": "markdown",
   "metadata": {},
   "source": [
    "Lastly, let's update citizenship"
   ]
  },
  {
   "cell_type": "code",
   "execution_count": 130,
   "metadata": {},
   "outputs": [
    {
     "data": {
      "text/plain": [
       "array(['Singaporean', 'Singapore citizen', 'Foreigner', 'PR'],\n",
       "      dtype=object)"
      ]
     },
     "execution_count": 130,
     "metadata": {},
     "output_type": "execute_result"
    }
   ],
   "source": [
    "raw_df[\"citizenship\"].unique()"
   ]
  },
  {
   "cell_type": "code",
   "execution_count": 131,
   "metadata": {},
   "outputs": [],
   "source": [
    "# Let Singaporean = 0, PR = 1, foreigner = 2\n",
    "\n",
    "c_index = {'s' : '0', 'p' : '1', 'f' : '2'}\n",
    "\n",
    "for index, row in raw_df.iterrows():\n",
    "    raw_df.at[index, \"citizenship\"] = c_index[row[\"citizenship\"][0].lower()]\n",
    "    \n",
    "raw_df[\"citizenship\"] = raw_df[\"citizenship\"].astype(int)"
   ]
  },
  {
   "cell_type": "code",
   "execution_count": 132,
   "metadata": {},
   "outputs": [
    {
     "data": {
      "text/plain": [
       "array([0, 2, 1])"
      ]
     },
     "execution_count": 132,
     "metadata": {},
     "output_type": "execute_result"
    }
   ],
   "source": [
    "raw_df[\"citizenship\"].unique()"
   ]
  },
  {
   "cell_type": "markdown",
   "metadata": {},
   "source": [
    "One last check for the values and dtype for every column"
   ]
  },
  {
   "cell_type": "code",
   "execution_count": 160,
   "metadata": {},
   "outputs": [
    {
     "data": {
      "text/plain": [
       "id                     object\n",
       "date_of_admission      object\n",
       "date_of_discharge      object\n",
       "medical_history_1       int64\n",
       "medical_history_2       Int32\n",
       "medical_history_3       int32\n",
       "medical_history_4       int64\n",
       "medical_history_5       Int32\n",
       "medical_history_6       int64\n",
       "medical_history_7       int64\n",
       "preop_medication_1      int64\n",
       "preop_medication_2      int64\n",
       "preop_medication_3      int64\n",
       "preop_medication_4      int64\n",
       "preop_medication_5      int64\n",
       "preop_medication_6      int64\n",
       "symptom_1               int64\n",
       "symptom_2               int64\n",
       "symptom_3               int64\n",
       "symptom_4               int64\n",
       "symptom_5               int64\n",
       "lab_result_1          float64\n",
       "lab_result_2          float64\n",
       "lab_result_3            int64\n",
       "weight                float64\n",
       "height                  int64\n",
       "id_w_date              object\n",
       "total_bill            float64\n",
       "admission_count         int64\n",
       "gender                  int32\n",
       "race                    int32\n",
       "citizenship             int32\n",
       "date_of_birth          object\n",
       "age_at_admission        int64\n",
       "year_of_admission       int32\n",
       "month_of_admission      int32\n",
       "year_of_birth           int32\n",
       "month_of_birth          int32\n",
       "bmi                   float64\n",
       "dtype: object"
      ]
     },
     "execution_count": 160,
     "metadata": {},
     "output_type": "execute_result"
    }
   ],
   "source": [
    "# Quick check for all data types\n",
    "raw_df.dtypes"
   ]
  },
  {
   "cell_type": "code",
   "execution_count": 129,
   "metadata": {},
   "outputs": [
    {
     "name": "stdout",
     "output_type": "stream",
     "text": [
      "id: ['00225710a878eff524a1d13be817e8e2' '0029d90eb654699c18001c17efb0f129'\n",
      " '0040333abd68527ecb53e1db9073f52e' ... 'ffc19537fa6621512ef4f296d60896ce'\n",
      " 'ffd67c2bcfb32508d2cf7b1e1193e2ed' 'ffd9644f8daf1d28493a7cd700bb30f4']\n",
      "date_of_admission: ['10/4/2014' '7/11/2012' '19/1/2013' ... '7/4/2015' '16/2/2014'\n",
      " '24/4/2011']\n",
      "date_of_discharge: ['22/4/2014' '20/11/2012' '31/1/2013' ... '26/1/2011' '29/4/2011'\n",
      " '5/5/2013']\n",
      "medical_history_1: [0 1]\n",
      "medical_history_2: [ 0.  1. nan]\n",
      "medical_history_3: [0 1]\n",
      "medical_history_4: [0 1]\n",
      "medical_history_5: [ 0. nan  1.]\n",
      "medical_history_6: [0 1]\n",
      "medical_history_7: [1 0]\n",
      "preop_medication_1: [0 1]\n",
      "preop_medication_2: [0 1]\n",
      "preop_medication_3: [0 1]\n",
      "preop_medication_4: [1 0]\n",
      "preop_medication_5: [0 1]\n",
      "preop_medication_6: [0 1]\n",
      "symptom_1: [0 1]\n",
      "symptom_2: [0 1]\n",
      "symptom_3: [1 0]\n",
      "symptom_4: [0 1]\n",
      "symptom_5: [0 1]\n",
      "lab_result_1: [13.4 16.7 14.8 14.9 14.2 13.  14.3 13.2 13.6 15.1 16.2 12.3 15.2 17.\n",
      " 12.  12.9 13.7 13.9 13.5 15.3 12.7 15.6 13.1 14.1 11.5 14.7 11.8 12.6\n",
      " 16.4 14.  11.9 16.8 11.7 14.4 16.6 11.3 13.8 11.1 13.3 17.4 15.4 18.\n",
      " 15.5 12.5 15.7 14.5 12.2 15.9 17.5 16.  16.9 16.1 14.6 19.2 15.8 17.1\n",
      " 16.3 18.3 11.  12.8 15.  10.5 16.5 10.9 12.4 11.6 18.6 10.6 18.2 17.8\n",
      " 17.7  9.8 17.2 11.2 18.1 18.7 12.1 10.7 11.4 18.4 18.5 17.9  9.1  9.7\n",
      " 10.3 17.3 10.8 17.6 10.1  9.4  9.6 10.4 19.1 18.8 19.8 18.9 19.3 20.3]\n",
      "lab_result_2: [27.9 26.5 25.2 28.7 27.2 25.8 24.7 32.2 30.6 27.3 30.2 26.8 25.4 30.3\n",
      " 28.8 26.1 28.3 29.3 28.6 26.  25.6 28.2 26.9 20.2 29.  26.6 26.3 27.\n",
      " 31.6 28.4 24.9 27.1 29.7 23.  25.9 27.8 27.4 29.1 24.4 23.4 28.1 31.8\n",
      " 24.2 25.1 28.  25.5 29.4 24.  30.5 23.8 22.1 30.7 22.3 29.8 23.5 23.6\n",
      " 30.4 29.6 23.9 31.2 31.  31.4 30.1 26.7 25.3 27.6 26.4 26.2 27.7 22.9\n",
      " 24.6 25.7 30.8 24.8 22.4 29.9 33.2 31.5 24.3 28.9 32.6 25.  31.3 29.5\n",
      " 23.2 22.6 21.9 30.  24.5 24.1 32.1 33.  31.7 22.8 27.5 22.7 32.3 23.7\n",
      " 21.2 32.5 33.7 32.7 34.9 21.4 30.9 28.5 35.1 21.3 29.2 21.8 31.9 21.6\n",
      " 22.  23.3 32.8 23.1 33.6 31.1 19.7 21.7 33.9 32.4 32.9 33.5 33.1 21.1\n",
      " 22.5 20.4 34.4 34.2 20.8 20.9 21.5 20.6 32.  34.  20.1 20.3 33.8 21.\n",
      " 35.  33.4 22.2 34.5 19.9 34.3 33.3 20.7]\n",
      "lab_result_3: [ 96 109 122  89 102 123  70 112 106  84 124  93  87  78  91 103  86 131\n",
      " 111  97 100 110  90 115 120 105  94  79  83  80 119  82  75 114  85 101\n",
      "  99 116 125 104  98 118 108  68 128  95  69 107  66 113  77  88 117 134\n",
      "  92  81 121  73  64 130  72 132 129 126 127  67  74 137 136 142  71  76\n",
      "  65  57  62 133  58  59  52  60 138 150 146  61  63 135 140 143 139 141]\n",
      "weight: [ 66.9  89.1  79.5  81.1  74.7  61.1  70.9  79.3  68.7  84.6  72.6  96.2\n",
      "  99.2  66.8  84.8  67.8  90.7  75.6  79.6  77.5  87.   80.4  88.4  89.4\n",
      "  90.   88.1  85.3  80.5  80.   69.9  67.1  65.1  78.1  84.9  78.6  79.1\n",
      "  53.  102.9  85.6  77.   73.4  72.2  92.3  65.5  75.1  85.5  81.5  77.1\n",
      " 100.1  69.7  62.9  56.7  83.7  75.4  95.8  74.3  77.9  61.7  80.1  85.4\n",
      "  73.1  88.2 101.1  63.4  75.7  89.6  82.4  68.8  84.5  98.   80.6  69.1\n",
      "  70.1  74.2  88.6  81.   85.   72.1  75.5  76.6  78.4  71.6  76.8  77.8\n",
      "  60.3  76.3 104.5  64.6  87.7  83.1  85.1  70.8  83.4  86.   87.3  79.7\n",
      "  77.7  78.   54.1  58.   92.7  92.6  87.5  69.3  94.6 102.1  63.8  76.7\n",
      "  81.4  65.2  83.2  85.2  80.2  81.2  69.   92.5  66.1  93.5  71.2  68.2\n",
      "  57.2  58.2  77.6  74.5  70.3  78.3  90.5  71.   67.5  89.8  81.8  80.7\n",
      "  78.2  76.5  92.9  67.4  74.1  95.1  63.5  79.2  75.9  74.9  73.8  85.9\n",
      "  59.   89.7  63.6 101.6  63.7  77.4  83.6  87.6  62.5  70.7  71.4  76.4\n",
      "  94.   78.8  85.8  72.9  78.5  61.2  73.7  72.5  67.6  90.2  73.5  78.7\n",
      "  90.3  93.   99.9  62.6  86.5  97.4  73.9  83.3  84.3  65.7 105.2  71.1\n",
      "  92.4  91.1  75.8  54.4  61.8  92.1  79.4  71.8  62.1  64.2  66.2  70.5\n",
      "  84.7  59.3  97.   68.5  62.8  66.3  73.3  61.4  59.4  84.2  82.2  98.6\n",
      "  95.4  72.7  71.7  72.3  94.5  83.5  65.3  74.4  87.2  82.7  86.6  95.6\n",
      "  84.1  70.2  64.1  80.3 101.3  64.   76.9  84.   94.3  78.9  56.1  86.8\n",
      "  49.3  93.9  93.8  82.3  81.9  74.6  81.6  81.7  86.2  75.3  91.8 103.6\n",
      "  66.6  83.8  87.1  82.1  82.5  76.   50.6  48.7  92.8  64.8  66.4  71.3\n",
      "  72.8  73.2  82.8  87.8  93.7  72.4  76.2  98.2  95.2  65.8  54.5  92.\n",
      "  69.4  68.   70.   97.7  75.2  89.   74.   72.   60.1  91.   77.3  94.4\n",
      "  90.4  88.9  82.9  90.6  90.8  88.8  85.7  79.8  59.5  62.7  53.7  55.7\n",
      "  93.4  60.2  54.3  52.3  67.9  68.9  63.   76.1  82.   89.2  67.2  89.3\n",
      "  60.9  75.   97.6  99.5  97.2  88.7  70.6  61.  109.  102.4  63.3  66.7\n",
      "  74.8  88.3  58.9  67.7  79.   59.9  68.1  91.4  66.5  69.2  65.6  68.3\n",
      "  69.8  94.7  69.6  73.   91.9  73.6  71.9 106.9  94.9  91.7  93.6  91.2\n",
      "  60.   67.3  95.5 103.   64.3  67.   65.   86.1  58.8  59.6  98.7  99.8\n",
      " 100.8  55.1  80.8 106.1  58.3  98.4  83.  103.8  89.5  64.5  83.9  86.3\n",
      "  86.4  82.6  87.9  87.4 110.1  92.2  58.7  65.4  94.2 102.6  86.7 100.7\n",
      "  91.6  88.5  71.5  64.7  79.9  90.9 103.3 106.3  60.4  62.3 121.   68.6\n",
      " 109.1  64.4  70.4  59.8 103.2  56.   64.9 100.6  63.9  60.7  77.2  95.3\n",
      "  91.3  62.2  51.4  63.1  69.5  50.4  68.4  58.4  96.9  95.9 111.5 103.4\n",
      "  62.   94.1  59.2  95.   86.9  66.   62.4  81.3  55.5  98.9  51.   97.8\n",
      "  50.  102.3  56.5 102.7  89.9  48.   84.4  55.4 102.8  99.7  96.6  88.\n",
      "  58.6  95.7  49.4  60.8 101.7 112.3  57.3  99.4  52.2 101.   60.5  61.5\n",
      "  55.9  93.3  90.1  57.   63.2  53.6  97.9  97.1  65.9  57.4  99.   61.6\n",
      "  96.3  54.8  55.6  99.1 104.1 111.9 103.7  53.8 107.   61.3  96.   59.7\n",
      "  55.3 110.7  96.1  91.5  49.   57.1  96.5  80.9  58.5  54.7  57.7 100.3\n",
      "  96.8  94.8  96.4  49.5  97.3 110.5 109.3  93.2 108.4  52.7  54.   99.6\n",
      "  57.5  55.2 101.5 107.8 106.5 115.2  52.   57.8  98.5  98.3  56.8  53.3\n",
      "  60.6  52.8  58.1 100.2  56.3  93.1  53.2  54.6  56.6  55.8 100.  113.2\n",
      " 101.2 104.2  57.6 102.   99.3 100.9]\n",
      "height: [155 160 172 173 162 165 154 163 171 168 166 161 174 158 170 167 169 159\n",
      " 151 178 152 157 181 180 153 156 175 177 164 176 179 182 183 184 186]\n",
      "id_w_date: ['00225710a878eff524a1d13be817e8e210/4/2014'\n",
      " '0029d90eb654699c18001c17efb0f1297/11/2012'\n",
      " '0040333abd68527ecb53e1db9073f52e19/1/2013' ...\n",
      " 'ffc19537fa6621512ef4f296d60896ce5/5/2013'\n",
      " 'ffd67c2bcfb32508d2cf7b1e1193e2ed24/12/2012'\n",
      " 'ffd9644f8daf1d28493a7cd700bb30f44/6/2013']\n",
      "total_bill: [ 5190.57 22601.5  17447.18 ... 30053.61 28007.64 21040.66]\n",
      "admission_count: [2 1 3]\n",
      "gender: [0 1]\n",
      "race: [0 2 1 3]\n",
      "citizenship: ['Singaporean' 'Singapore citizen' 'Foreigner' 'PR']\n",
      "date_of_birth: ['16/1/1983' '14/10/1943' '26/8/1972' ... '7/8/1976' '12/9/1938'\n",
      " '6/6/1950']\n",
      "age_at_admission: [31 69 41 38 70 55 66 63 22 61 36 32 43 44 80 52 53 40 68 51 75 59 42 45\n",
      " 56 65 33 37 74 73 77 71 54 64 46 57 72 39 30 58 82 60 34 35 29 47 67 79\n",
      " 48 50 49 76 78 28 27 62 81 84 85 83 25 26]\n",
      "year_of_admission: [2014 2012 2013 2015 2011]\n",
      "month_of_admission: [ 4 11  1  2  9  6 10  5  7 12  3  8]\n",
      "year_of_birth: [1983 1943 1972 1976 1942 1960 1947 1948 1973 1990 1953 1979 1969 1968\n",
      " 1934 1961 1959 1977 1975 1962 1940 1945 1955 1980 1963 1974 1964 1938\n",
      " 1951 1982 1978 1958 1971 1966 1944 1941 1935 1952 1981 1932 1957 1950\n",
      " 1939 1965 1946 1967 1949 1970 1936 1954 1933 1956 1985 1937 1984 1931\n",
      " 1986 1930 1989 1987]\n",
      "month_of_birth: [ 1 10  8  7  9  4  5 12  6  3  2 11]\n"
     ]
    }
   ],
   "source": [
    "# Quick check for unique values in each column\n",
    "for column in raw_df.columns:\n",
    "    print(column + \": \" + str(raw_df[column].unique()))"
   ]
  },
  {
   "cell_type": "code",
   "execution_count": 135,
   "metadata": {},
   "outputs": [],
   "source": [
    "# Columns to change: medical_history 2 and 5, lab_result 1 and 2\n",
    "\n",
    "raw_df[\"medical_history_2\"] = raw_df[\"medical_history_2\"].astype(\"Int32\")\n",
    "raw_df[\"medical_history_5\"] = raw_df[\"medical_history_5\"].astype(\"Int32\")"
   ]
  },
  {
   "cell_type": "markdown",
   "metadata": {},
   "source": [
    "### Lastly, let's clean up the data and remove unwanted columns"
   ]
  },
  {
   "cell_type": "code",
   "execution_count": 161,
   "metadata": {},
   "outputs": [
    {
     "data": {
      "text/plain": [
       "Index(['id', 'date_of_admission', 'date_of_discharge', 'medical_history_1',\n",
       "       'medical_history_2', 'medical_history_3', 'medical_history_4',\n",
       "       'medical_history_5', 'medical_history_6', 'medical_history_7',\n",
       "       'preop_medication_1', 'preop_medication_2', 'preop_medication_3',\n",
       "       'preop_medication_4', 'preop_medication_5', 'preop_medication_6',\n",
       "       'symptom_1', 'symptom_2', 'symptom_3', 'symptom_4', 'symptom_5',\n",
       "       'lab_result_1', 'lab_result_2', 'lab_result_3', 'weight', 'height',\n",
       "       'id_w_date', 'total_bill', 'admission_count', 'gender', 'race',\n",
       "       'citizenship', 'date_of_birth', 'age_at_admission', 'year_of_admission',\n",
       "       'month_of_admission', 'year_of_birth', 'month_of_birth', 'bmi'],\n",
       "      dtype='object')"
      ]
     },
     "execution_count": 161,
     "metadata": {},
     "output_type": "execute_result"
    }
   ],
   "source": [
    "raw_df.columns"
   ]
  },
  {
   "cell_type": "markdown",
   "metadata": {},
   "source": [
    "Let's remove:\n",
    "* id\n",
    "* date_of_admission\n",
    "* date_of_discharge\n",
    "* id_w_date\n",
    "* date_of_birth"
   ]
  },
  {
   "cell_type": "code",
   "execution_count": 162,
   "metadata": {},
   "outputs": [],
   "source": [
    "_raw_df = raw_df.drop(columns=[\"id\", \"date_of_admission\", \"date_of_discharge\", \n",
    "                               \"id_w_date\", \"date_of_birth\"])"
   ]
  },
  {
   "cell_type": "code",
   "execution_count": 163,
   "metadata": {},
   "outputs": [
    {
     "data": {
      "text/plain": [
       "Index(['medical_history_1', 'medical_history_2', 'medical_history_3',\n",
       "       'medical_history_4', 'medical_history_5', 'medical_history_6',\n",
       "       'medical_history_7', 'preop_medication_1', 'preop_medication_2',\n",
       "       'preop_medication_3', 'preop_medication_4', 'preop_medication_5',\n",
       "       'preop_medication_6', 'symptom_1', 'symptom_2', 'symptom_3',\n",
       "       'symptom_4', 'symptom_5', 'lab_result_1', 'lab_result_2',\n",
       "       'lab_result_3', 'weight', 'height', 'total_bill', 'admission_count',\n",
       "       'gender', 'race', 'citizenship', 'age_at_admission',\n",
       "       'year_of_admission', 'month_of_admission', 'year_of_birth',\n",
       "       'month_of_birth', 'bmi'],\n",
       "      dtype='object')"
      ]
     },
     "execution_count": 163,
     "metadata": {},
     "output_type": "execute_result"
    }
   ],
   "source": [
    "_raw_df.columns"
   ]
  },
  {
   "cell_type": "markdown",
   "metadata": {},
   "source": [
    "Re-index the dataframe into the order that we want it"
   ]
  },
  {
   "cell_type": "code",
   "execution_count": 165,
   "metadata": {},
   "outputs": [
    {
     "name": "stdout",
     "output_type": "stream",
     "text": [
      "True\n"
     ]
    }
   ],
   "source": [
    "order = [\n",
    "    'gender', 'race', 'citizenship', 'age_at_admission',\n",
    "    'year_of_admission', 'month_of_admission', 'year_of_birth',\n",
    "    'month_of_birth', 'bmi', 'weight', 'height', 'admission_count',\n",
    "    'medical_history_1', 'medical_history_2', 'medical_history_3',\n",
    "    'medical_history_4', 'medical_history_5', 'medical_history_6',\n",
    "    'medical_history_7', 'preop_medication_1', 'preop_medication_2',\n",
    "    'preop_medication_3', 'preop_medication_4', 'preop_medication_5',\n",
    "    'preop_medication_6', 'symptom_1', 'symptom_2', 'symptom_3',\n",
    "    'symptom_4', 'symptom_5', 'lab_result_1', 'lab_result_2',\n",
    "    'lab_result_3', 'total_bill'\n",
    "]\n",
    "\n",
    "print(len(order) == len(_raw_df.columns))"
   ]
  },
  {
   "cell_type": "code",
   "execution_count": 174,
   "metadata": {},
   "outputs": [
    {
     "data": {
      "text/plain": [
       "Index(['gender', 'race', 'citizenship', 'age_at_admission',\n",
       "       'year_of_admission', 'month_of_admission', 'year_of_birth',\n",
       "       'month_of_birth', 'bmi', 'weight', 'height', 'admission_count',\n",
       "       'medical_history_1', 'medical_history_2', 'medical_history_3',\n",
       "       'medical_history_4', 'medical_history_5', 'medical_history_6',\n",
       "       'medical_history_7', 'preop_medication_1', 'preop_medication_2',\n",
       "       'preop_medication_3', 'preop_medication_4', 'preop_medication_5',\n",
       "       'preop_medication_6', 'symptom_1', 'symptom_2', 'symptom_3',\n",
       "       'symptom_4', 'symptom_5', 'lab_result_1', 'lab_result_2',\n",
       "       'lab_result_3', 'total_bill'],\n",
       "      dtype='object')"
      ]
     },
     "execution_count": 174,
     "metadata": {},
     "output_type": "execute_result"
    }
   ],
   "source": [
    "ordered_df = _raw_df.reindex(columns=order)\n",
    "\n",
    "ordered_df.columns"
   ]
  },
  {
   "cell_type": "markdown",
   "metadata": {},
   "source": [
    "Finally, we separate the dataframe into 2 - one containing all rows with at least 1 null, and another with no nulls"
   ]
  },
  {
   "cell_type": "code",
   "execution_count": 175,
   "metadata": {},
   "outputs": [
    {
     "name": "stdout",
     "output_type": "stream",
     "text": [
      "502\n",
      "2898\n"
     ]
    }
   ],
   "source": [
    "# Recall that medical_history 2 and 5 have nulls\n",
    "# We will filter them out into another dataset\n",
    "nan_df = ordered_df[ordered_df.isna().any(axis=1)]\n",
    "\n",
    "print(len(nan_df))\n",
    "\n",
    "final_df = ordered_df.dropna()\n",
    "\n",
    "print(len(final_df))"
   ]
  },
  {
   "cell_type": "markdown",
   "metadata": {},
   "source": [
    "### Export data"
   ]
  },
  {
   "cell_type": "code",
   "execution_count": 178,
   "metadata": {},
   "outputs": [],
   "source": [
    "# raw_df.to_csv(\"raw_df.csv\")\n",
    "nan_df.to_csv(\"nan_df.csv\", index=False)"
   ]
  },
  {
   "cell_type": "code",
   "execution_count": 179,
   "metadata": {},
   "outputs": [],
   "source": [
    "final_df.to_csv(\"final_df.csv\", index=False)"
   ]
  }
 ],
 "metadata": {
  "kernelspec": {
   "display_name": "Python 3",
   "language": "python",
   "name": "python3"
  },
  "language_info": {
   "codemirror_mode": {
    "name": "ipython",
    "version": 3
   },
   "file_extension": ".py",
   "mimetype": "text/x-python",
   "name": "python",
   "nbconvert_exporter": "python",
   "pygments_lexer": "ipython3",
   "version": "3.8.0"
  }
 },
 "nbformat": 4,
 "nbformat_minor": 4
}
